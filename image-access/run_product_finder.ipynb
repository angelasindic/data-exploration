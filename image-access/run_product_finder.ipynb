{
 "cells": [
  {
   "cell_type": "code",
   "execution_count": 2,
   "metadata": {},
   "outputs": [],
   "source": [
    "%load_ext autoreload\n",
    "%autoreload 2"
   ]
  },
  {
   "cell_type": "code",
   "execution_count": 14,
   "metadata": {},
   "outputs": [],
   "source": [
    "import product_finder\n",
    "import os\n",
    "import zipfile"
   ]
  },
  {
   "cell_type": "markdown",
   "metadata": {},
   "source": [
    "**Replace user/password with credentials for the cpernicus scihub**"
   ]
  },
  {
   "cell_type": "code",
   "execution_count": 15,
   "metadata": {},
   "outputs": [],
   "source": [
    "api = product_finder.instantiate_api('user','password')"
   ]
  },
  {
   "cell_type": "code",
   "execution_count": 16,
   "metadata": {},
   "outputs": [
    {
     "name": "stdout",
     "output_type": "stream",
     "text": [
      "Searching products for geojson located at: RCCR_working_areas/golfo_dulce_aoi.json\n",
      "Found 74 products for Ãrea de trabajo RCCR/Golfo Dulce\n"
     ]
    }
   ],
   "source": [
    "products_gdf = product_finder.find_products(api, 'RCCR_working_areas/golfo_dulce_aoi.json', \n",
    "                                            start_date='20180101', end_date='20200401',\n",
    "                                           processinglevel='Level-1C')"
   ]
  },
  {
   "cell_type": "markdown",
   "metadata": {},
   "source": [
    "### Downlaod product with given title\n",
    "Download example product to process with acolite:\n",
    "S2A_MSIL1C_20200321T160511_N0209_R054_T17PKK_20200321T205449"
   ]
  },
  {
   "cell_type": "code",
   "execution_count": 17,
   "metadata": {},
   "outputs": [],
   "source": [
    "product = products_gdf.loc[products_gdf['title'] == 'S2A_MSIL1C_20200321T160511_N0209_R054_T17PKK_20200321T205449']\n",
    "\n",
    "uuid = product['uuid'][0]\n",
    "target_dir = 'data'\n",
    "prod_download = api.download(uuid, directory_path=target_dir)\n",
    "filename = prod_download['title']+ '.zip'\n",
    "filepath = os.path.join(target_dir, filename)\n",
    "with zipfile.ZipFile(filepath,\"r\") as zip_ref:\n",
    "    zip_ref.extractall(target_dir)"
   ]
  },
  {
   "cell_type": "code",
   "execution_count": null,
   "metadata": {},
   "outputs": [],
   "source": []
  }
 ],
 "metadata": {
  "kernelspec": {
   "display_name": "Python 3",
   "language": "python",
   "name": "python3"
  },
  "language_info": {
   "codemirror_mode": {
    "name": "ipython",
    "version": 3
   },
   "file_extension": ".py",
   "mimetype": "text/x-python",
   "name": "python",
   "nbconvert_exporter": "python",
   "pygments_lexer": "ipython3",
   "version": "3.7.2"
  }
 },
 "nbformat": 4,
 "nbformat_minor": 4
}
