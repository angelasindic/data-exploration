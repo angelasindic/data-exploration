{
 "cells": [
  {
   "cell_type": "code",
   "execution_count": 1,
   "metadata": {},
   "outputs": [],
   "source": [
    "%load_ext autoreload\n",
    "%autoreload 2"
   ]
  },
  {
   "cell_type": "code",
   "execution_count": 2,
   "metadata": {},
   "outputs": [],
   "source": [
    "import product_finder\n",
    "import os\n",
    "import zipfile\n",
    "import pandas as pd\n",
    "import numpy as np\n",
    "import matplotlib.pyplot as plt\n",
    "import seaborn as sns"
   ]
  },
  {
   "cell_type": "markdown",
   "metadata": {},
   "source": [
    "**Replace user/password with credentials for the cpernicus scihub**"
   ]
  },
  {
   "cell_type": "code",
   "execution_count": 3,
   "metadata": {},
   "outputs": [],
   "source": [
    "# replace!\n",
    "username = 'XXX'\n",
    "password = 'XXX'\n",
    "\n",
    "api = product_finder.instantiate_api(username, password)"
   ]
  },
  {
   "cell_type": "code",
   "execution_count": 4,
   "metadata": {},
   "outputs": [
    {
     "name": "stdout",
     "output_type": "stream",
     "text": [
      "Searching products for geojson located at: RCCR_working_areas/golfo_dulce_aoi.json\n"
     ]
    },
    {
     "name": "stderr",
     "output_type": "stream",
     "text": [
      "Querying products: 100%|██████████| 439/439 [00:17<00:00, 24.88 products/s]\n"
     ]
    },
    {
     "name": "stdout",
     "output_type": "stream",
     "text": [
      "Found 439 products for Ãrea de trabajo RCCR/Golfo Dulce\n"
     ]
    },
    {
     "name": "stderr",
     "output_type": "stream",
     "text": [
      "/home/angela/anaconda3/envs/coral_datadownload/lib/python3.7/site-packages/pyproj/crs/crs.py:53: FutureWarning: '+init=<authority>:<code>' syntax is deprecated. '<authority>:<code>' is the preferred initialization method. When making the change, be mindful of axis order changes: https://pyproj4.github.io/pyproj/stable/gotchas.html#axis-order-changes-in-proj-6\n",
      "  return _prepare_from_string(\" \".join(pjargs))\n"
     ]
    }
   ],
   "source": [
    "products_gdf = product_finder.find_products(api, 'RCCR_working_areas/golfo_dulce_aoi.json', \n",
    "                                            start_date='20000101', end_date='20200415',\n",
    "                                           processinglevel='Level-1C', max_cloudpercentage=100)"
   ]
  },
  {
   "cell_type": "code",
   "execution_count": 5,
   "metadata": {},
   "outputs": [
    {
     "name": "stdout",
     "output_type": "stream",
     "text": [
      "<class 'geopandas.geodataframe.GeoDataFrame'>\n",
      "Index: 439 entries, 099239ba-401b-49f5-8c1e-08f917de07e7 to c731a39c-74a6-424a-9370-ac95faaef6ad\n",
      "Data columns (total 34 columns):\n",
      " #   Column                    Non-Null Count  Dtype         \n",
      "---  ------                    --------------  -----         \n",
      " 0   title                     439 non-null    object        \n",
      " 1   link                      439 non-null    object        \n",
      " 2   link_alternative          439 non-null    object        \n",
      " 3   link_icon                 439 non-null    object        \n",
      " 4   summary                   439 non-null    object        \n",
      " 5   datatakesensingstart      419 non-null    datetime64[ns]\n",
      " 6   beginposition             439 non-null    datetime64[ns]\n",
      " 7   endposition               439 non-null    datetime64[ns]\n",
      " 8   ingestiondate             439 non-null    datetime64[ns]\n",
      " 9   orbitnumber               439 non-null    int64         \n",
      " 10  relativeorbitnumber       439 non-null    int64         \n",
      " 11  cloudcoverpercentage      439 non-null    float64       \n",
      " 12  sensoroperationalmode     439 non-null    object        \n",
      " 13  level1cpdiidentifier      439 non-null    object        \n",
      " 14  tileid                    419 non-null    object        \n",
      " 15  hv_order_tileid           419 non-null    object        \n",
      " 16  format                    439 non-null    object        \n",
      " 17  processingbaseline        439 non-null    object        \n",
      " 18  platformname              439 non-null    object        \n",
      " 19  filename                  439 non-null    object        \n",
      " 20  instrumentname            439 non-null    object        \n",
      " 21  instrumentshortname       439 non-null    object        \n",
      " 22  size                      439 non-null    object        \n",
      " 23  s2datatakeid              439 non-null    object        \n",
      " 24  producttype               439 non-null    object        \n",
      " 25  platformidentifier        439 non-null    object        \n",
      " 26  orbitdirection            439 non-null    object        \n",
      " 27  platformserialidentifier  439 non-null    object        \n",
      " 28  processinglevel           439 non-null    object        \n",
      " 29  identifier                439 non-null    object        \n",
      " 30  uuid                      439 non-null    object        \n",
      " 31  granuleidentifier         287 non-null    object        \n",
      " 32  datastripidentifier       287 non-null    object        \n",
      " 33  geometry                  439 non-null    geometry      \n",
      "dtypes: datetime64[ns](4), float64(1), geometry(1), int64(2), object(26)\n",
      "memory usage: 140.0+ KB\n"
     ]
    }
   ],
   "source": [
    "products_gdf.info()"
   ]
  },
  {
   "cell_type": "code",
   "execution_count": 6,
   "metadata": {},
   "outputs": [
    {
     "data": {
      "text/plain": [
       "<matplotlib.axes._subplots.AxesSubplot at 0x7f9b7fc02210>"
      ]
     },
     "execution_count": 6,
     "metadata": {},
     "output_type": "execute_result"
    },
    {
     "data": {
      "image/png": "[encoded data removed]",
      "text/plain": [
       "<Figure size 432x288 with 1 Axes>"
      ]
     },
     "metadata": {
      "needs_background": "light"
     },
     "output_type": "display_data"
    }
   ],
   "source": [
    "products_gdf['cloudcoverpercentage'].plot.hist(bins=20)"
   ]
  },
  {
   "cell_type": "code",
   "execution_count": 7,
   "metadata": {},
   "outputs": [],
   "source": [
    "products_gdf['year'] = pd.DatetimeIndex(products_gdf['beginposition']).year\n",
    "products_gdf['month'] = pd.DatetimeIndex(products_gdf['beginposition']).month"
   ]
  },
  {
   "cell_type": "code",
   "execution_count": 9,
   "metadata": {},
   "outputs": [],
   "source": [
    "dataset = products_gdf[['year','month', 'cloudcoverpercentage']]"
   ]
  },
  {
   "cell_type": "code",
   "execution_count": 10,
   "metadata": {},
   "outputs": [
    {
     "data": {
      "text/plain": [
       "[21.047965957446813,\n",
       " 20.955191891891893,\n",
       " 20.357755555555556,\n",
       " 54.74946857142856,\n",
       " 73.98222222222222,\n",
       " 77.68478484848484,\n",
       " 73.8040484848485,\n",
       " 77.12997058823528,\n",
       " 73.10368333333332,\n",
       " 73.64537222222224,\n",
       " 62.00930294117646,\n",
       " 32.874005128205134]"
      ]
     },
     "execution_count": 10,
     "metadata": {},
     "output_type": "execute_result"
    }
   ],
   "source": [
    "per_month = dataset.groupby('month')\n",
    "#per_month['month'].agg(np.mean)\n",
    "cc_permonth = per_month['cloudcoverpercentage'].agg(np.mean)\n",
    "cc_permonth[1]\n",
    "values = [m for m in cc_permonth]\n",
    "values"
   ]
  },
  {
   "cell_type": "code",
   "execution_count": 11,
   "metadata": {},
   "outputs": [
    {
     "data": {
      "image/png": "[encoded data removed]",
      "text/plain": [
       "<Figure size 1202.4x595.44 with 1 Axes>"
      ]
     },
     "metadata": {},
     "output_type": "display_data"
    }
   ],
   "source": [
    "sns.set(style=\"whitegrid\")\n",
    "sns.set(rc={'figure.figsize':(16.7,8.27)})\n",
    "ax = sns.barplot(x=\"month\", y=\"cloudcoverpercentage\", data=dataset)"
   ]
  },
  {
   "cell_type": "code",
   "execution_count": 12,
   "metadata": {},
   "outputs": [
    {
     "data": {
      "image/png": "[encoded data removed]",
      "text/plain": [
       "<Figure size 1202.4x595.44 with 1 Axes>"
      ]
     },
     "metadata": {},
     "output_type": "display_data"
    }
   ],
   "source": [
    "ax = sns.barplot(x=\"month\", y=\"cloudcoverpercentage\", hue=\"year\",data=dataset)"
   ]
  },
  {
   "cell_type": "code",
   "execution_count": 17,
   "metadata": {},
   "outputs": [],
   "source": [
    "#params = products_gdf.beginposition.map(lambda ts: (ts.strftime('%Y/%m/%d'), ts.hour+ts.minute/60.0))\n",
    "#print(params.size)\n",
    "#for index, value in params.items():\n",
    "#    date, time = value\n",
    "#    print(f\"download files for date: {date}, time: {time}\")\n",
    "#    ancillary_get(date=date,\n",
    "#              lon=-83.35765476893776, lat=8.604487829743483,\n",
    "#              ftime=time,\n",
    "#              local_dir='data/MET')\n",
    "#eouser@ds3u:/eodata/Sentinel-2/MSI/L1C/2020/03/01$ \n",
    "def get_product_path(title, timestamp, root='/eodata/Sentinel-2/MSI/L1C'):\n",
    "    path = root +'/' + timestamp.strftime('%Y/%m/%d') + '/' + title + '.SAFE' \n",
    "    return path"
   ]
  },
  {
   "cell_type": "markdown",
   "metadata": {},
   "source": [
    "### Extract Product Location\n",
    "1. Generates the absolute path for the products for the mounted ``/eodata`` of the vm on cloudferro.\n",
    "2. Uses the sentinel api to query products of the Golfo Dulce area with a cloud percentage less than 20%.\n",
    "3. The result is written as a csv in the ``data`` folder."
   ]
  },
  {
   "cell_type": "code",
   "execution_count": 7,
   "metadata": {},
   "outputs": [
    {
     "name": "stdout",
     "output_type": "stream",
     "text": [
      "Searching products for geojson located at: RCCR_working_areas/golfo_dulce_aoi.json\n"
     ]
    },
    {
     "name": "stderr",
     "output_type": "stream",
     "text": [
      "Querying products: 100%|██████████| 136/136 [00:01<00:00, 96.01 products/s]"
     ]
    },
    {
     "name": "stdout",
     "output_type": "stream",
     "text": [
      "Found 136 products for Ãrea de trabajo RCCR/Golfo Dulce\n"
     ]
    },
    {
     "name": "stderr",
     "output_type": "stream",
     "text": [
      "\n"
     ]
    }
   ],
   "source": [
    "products_20 = product_finder.find_products(api, 'RCCR_working_areas/golfo_dulce_aoi.json', \n",
    "                                            start_date='20000101', end_date='20200415',\n",
    "                                           processinglevel='Level-1C', max_cloudpercentage=30)\n",
    "\n",
    "\n",
    "#df['product_path'] = df.apply(lambda x: get_sublist(x.col_1, x.col_2), axis=1)"
   ]
  },
  {
   "cell_type": "code",
   "execution_count": 22,
   "metadata": {},
   "outputs": [],
   "source": [
    "products_20['eodata_path'] = products_20.apply(lambda x: get_product_path(x.title, x.beginposition), axis=1)\n",
    "\n",
    "products_20.eodata_path.to_csv('data/eodata_paths.csv', index=False, header=None)"
   ]
  },
  {
   "cell_type": "markdown",
   "metadata": {},
   "source": [
    "### Downlaod product with given title\n",
    "Download example product to process with acolite:\n",
    "S2A_MSIL1C_20200321T160511_N0209_R054_T17PKK_20200321T205449"
   ]
  },
  {
   "cell_type": "code",
   "execution_count": 17,
   "metadata": {},
   "outputs": [],
   "source": [
    "product = products_gdf.loc[products_gdf['title'] == 'S2A_MSIL1C_20200321T160511_N0209_R054_T17PKK_20200321T205449']\n",
    "\n",
    "uuid = product['uuid'][0]\n",
    "target_dir = 'data'\n",
    "prod_download = api.download(uuid, directory_path=target_dir)\n",
    "filename = prod_download['title']+ '.zip'\n",
    "filepath = os.path.join(target_dir, filename)\n",
    "with zipfile.ZipFile(filepath,\"r\") as zip_ref:\n",
    "    zip_ref.extractall(target_dir)"
   ]
  },
  {
   "cell_type": "code",
   "execution_count": null,
   "metadata": {},
   "outputs": [],
   "source": [
    "#TODO\n",
    "#S2A_MSIL1C_20200111T160511_N0208_R054_T17PKK_20200111T192620\n",
    "#S2A_MSIL1C_20200131T160501_N0208_R054_T17PKK_20200131T192646\n",
    "#S2B_MSIL1C_20200116T160509_N0208_R054_T17PKK_20200116T190924"
   ]
  }
 ],
 "metadata": {
  "kernelspec": {
   "display_name": "Python 3",
   "language": "python",
   "name": "python3"
  },
  "language_info": {
   "codemirror_mode": {
    "name": "ipython",
    "version": 3
   },
   "file_extension": ".py",
   "mimetype": "text/x-python",
   "name": "python",
   "nbconvert_exporter": "python",
   "pygments_lexer": "ipython3",
   "version": "3.7.7"
  }
 },
 "nbformat": 4,
 "nbformat_minor": 4
}
