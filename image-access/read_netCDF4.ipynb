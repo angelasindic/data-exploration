{
 "cells": [
  {
   "cell_type": "code",
   "execution_count": 1,
   "metadata": {},
   "outputs": [],
   "source": [
    "import math\n",
    "import numpy as np\n",
    "import pandas as pd\n",
    "from netCDF4 import Dataset\n",
    "import matplotlib.pyplot as plt\n",
    "from matplotlib.colors import ListedColormap"
   ]
  },
  {
   "cell_type": "code",
   "execution_count": 2,
   "metadata": {},
   "outputs": [],
   "source": [
    "l2w = '/home/angela/m3/tutorials/tmp/S2A_MSI_2020_03_21_16_05_11_T17PKK_L2W.nc'"
   ]
  },
  {
   "cell_type": "code",
   "execution_count": 4,
   "metadata": {},
   "outputs": [
    {
     "name": "stdout",
     "output_type": "stream",
     "text": [
      "reading dataset:  spm_nechad2016\n",
      "(2946, 2718)\n",
      "float32\n",
      "\n",
      "\n",
      "min: -3.7036550045013428, max: 57.71449661254883, mean: 2.331603527069092\n"
     ]
    }
   ],
   "source": [
    "nc = Dataset(l2w)\n",
    "ds = list(nc.variables.keys())\n",
    "\n",
    "#['lon', 'lat', 'l2_flags', 'spm_nechad2016'] \n",
    "dataset = ds[3]\n",
    "print('reading dataset: ', dataset)\n",
    "data = nc.variables[dataset][:]\n",
    "print(data.shape)\n",
    "print(data.dtype)\n",
    "\n",
    "print('\\n')\n",
    "print(f\"min: {np.nanmin(data)}, max: {np.nanmax(data)}, mean: {np.nanmean(data)}\")"
   ]
  },
  {
   "cell_type": "code",
   "execution_count": 5,
   "metadata": {},
   "outputs": [
    {
     "name": "stdout",
     "output_type": "stream",
     "text": [
      "data size: (2946, 2718), \n",
      "total elements     : 8007228\n",
      "elements not masked: 1449154\n",
      "elements < 0       :   25649\n"
     ]
    }
   ],
   "source": [
    "values = data.flatten()\n",
    "print(f\"data size: {data.shape}, \\ntotal elements     : {len(values)}\")\n",
    "values = values[~np.isnan(values)]\n",
    "print(f\"elements not masked: {len(values)}\")\n",
    "values.shape\n",
    "b = values < 0\n",
    "print(f\"elements < 0       :   {len(values[b])}\")"
   ]
  },
  {
   "cell_type": "code",
   "execution_count": 6,
   "metadata": {},
   "outputs": [],
   "source": [
    "def load_colormap(filename):\n",
    "    \"\"\"Load a colormap defined in a text file\n",
    "    filename is the .txt file name located in the\n",
    "    data/path, not the full path.\n",
    "    list_available_colormaps() lists the available color tables\n",
    "    \"\"\"\n",
    "    try:\n",
    "        color_map_values = pd.read_csv(filename).to_numpy()/255.\n",
    "        colormap = ListedColormap(color_map_values)\n",
    "    except IOError:\n",
    "        print(f\"Cannot load colormap {filename}\")\n",
    "        raise\n",
    "    colormap.set_bad(\"gray\") # color of missing pixels\n",
    "    colormap.set_under(\"white\") # color of background, necessary if you want to use\n",
    "    # this colormap directly with hp.mollview(m, cmap=colormap)\n",
    "    # healpy tutorial see:https://healpy.readthedocs.io/en/latest/tutorial.html\n",
    "    return colormap"
   ]
  },
  {
   "cell_type": "code",
   "execution_count": 7,
   "metadata": {},
   "outputs": [],
   "source": [
    "cmp = load_colormap('data/planck_parchment_rgb.csv')"
   ]
  },
  {
   "cell_type": "code",
   "execution_count": 8,
   "metadata": {},
   "outputs": [
    {
     "data": {
      "image/png": "[encoded data removed]",
      "text/plain": [
       "<Figure size 432x288 with 2 Axes>"
      ]
     },
     "metadata": {
      "needs_background": "light"
     },
     "output_type": "display_data"
    }
   ],
   "source": [
    "# Plot the green band using a non-default color ramp & a color bar\n",
    "# see also: https://matplotlib.org/users/colormaps.html\n",
    "fig = plt.imshow(data)\n",
    "fig.set_cmap(cmp)\n",
    "plt.colorbar()\n",
    "\n",
    "# Display the results.\n",
    "plt.show()"
   ]
  },
  {
   "cell_type": "code",
   "execution_count": 9,
   "metadata": {},
   "outputs": [],
   "source": [
    "plt.imsave(\"test.png\", data, cmap=cmp, format='png')"
   ]
  },
  {
   "cell_type": "code",
   "execution_count": 12,
   "metadata": {},
   "outputs": [],
   "source": [
    "nc.close()"
   ]
  }
 ],
 "metadata": {
  "kernelspec": {
   "display_name": "Python 3",
   "language": "python",
   "name": "python3"
  },
  "language_info": {
   "codemirror_mode": {
    "name": "ipython",
    "version": 3
   },
   "file_extension": ".py",
   "mimetype": "text/x-python",
   "name": "python",
   "nbconvert_exporter": "python",
   "pygments_lexer": "ipython3",
   "version": "3.7.6"
  }
 },
 "nbformat": 4,
 "nbformat_minor": 4
}
