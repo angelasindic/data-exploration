{
 "cells": [
  {
   "cell_type": "code",
   "execution_count": 1,
   "metadata": {},
   "outputs": [],
   "source": [
    "import folium\n",
    "import os\n",
    "import numpy as np\n",
    "\n",
    "from sentinelsat import SentinelAPI, read_geojson, geojson_to_wkt \n",
    "import geopandas as gpd\n",
    "import pandas as pd\n",
    "import numpy as np\n",
    "import matplotlib.pyplot as plt\n",
    "\n",
    "from shapely.geometry import MultiPolygon, Polygon\n",
    "import rasterio as rio\n",
    "from rasterio.plot import show\n",
    "import rasterio.mask\n",
    "import fiona\n",
    "\n",
    "import zipfile"
   ]
  },
  {
   "cell_type": "code",
   "execution_count": 2,
   "metadata": {},
   "outputs": [
    {
     "name": "stdout",
     "output_type": "stream",
     "text": [
      "<class 'geopandas.geodataframe.GeoDataFrame'>\n",
      "RangeIndex: 2 entries, 0 to 1\n",
      "Data columns (total 12 columns):\n",
      " #   Column      Non-Null Count  Dtype   \n",
      "---  ------      --------------  -----   \n",
      " 0   Name        2 non-null      object  \n",
      " 1   descriptio  0 non-null      object  \n",
      " 2   timestamp   0 non-null      object  \n",
      " 3   begin       0 non-null      object  \n",
      " 4   end         0 non-null      object  \n",
      " 5   altitudeMo  0 non-null      object  \n",
      " 6   tessellate  2 non-null      int64   \n",
      " 7   extrude     2 non-null      int64   \n",
      " 8   visibility  2 non-null      int64   \n",
      " 9   drawOrder   0 non-null      object  \n",
      " 10  icon        0 non-null      object  \n",
      " 11  geometry    2 non-null      geometry\n",
      "dtypes: geometry(1), int64(3), object(8)\n",
      "memory usage: 320.0+ bytes\n"
     ]
    }
   ],
   "source": [
    "aoi = gpd.read_file('RCCR_working_areas/RCCR_working_areas_poly_fix.shp')\n",
    "aoi.info()"
   ]
  },
  {
   "cell_type": "code",
   "execution_count": 3,
   "metadata": {},
   "outputs": [],
   "source": [
    "golfo_dulce = aoi.drop([aoi.index[0]])\n",
    "golfo_dulce.to_file(\"RCCR_working_areas/golfo_dulce_aoi.json\", driver=\"GeoJSON\")"
   ]
  },
  {
   "cell_type": "code",
   "execution_count": 4,
   "metadata": {},
   "outputs": [
    {
     "data": {
      "text/plain": [
       "<matplotlib.axes._subplots.AxesSubplot at 0x7f9705f47390>"
      ]
     },
     "execution_count": 4,
     "metadata": {},
     "output_type": "execute_result"
    },
    {
     "data": {
      "image/png": "[encoded data removed]",
      "text/plain": [
       "<Figure size 432x288 with 1 Axes>"
      ]
     },
     "metadata": {
      "needs_background": "light"
     },
     "output_type": "display_data"
    }
   ],
   "source": [
    "golfo_dulce['geometry'].plot()\n"
   ]
  },
  {
   "cell_type": "code",
   "execution_count": 5,
   "metadata": {
    "scrolled": true
   },
   "outputs": [
    {
     "data": {
      "text/plain": [
       "<matplotlib.axes._subplots.AxesSubplot at 0x7f96d45e9610>"
      ]
     },
     "execution_count": 5,
     "metadata": {},
     "output_type": "execute_result"
    },
    {
     "data": {
      "image/png": "[encoded data removed]",
      "text/plain": [
       "<Figure size 432x288 with 1 Axes>"
      ]
     },
     "metadata": {
      "needs_background": "light"
     },
     "output_type": "display_data"
    }
   ],
   "source": [
    "bahia_colebra = aoi.drop([aoi.index[1]])\n",
    "bahia_colebra.to_file(\"RCCR_working_areas/bahia_colebra.json\", driver=\"GeoJSON\")\n",
    "bahia_colebra['geometry'].plot()"
   ]
  },
  {
   "cell_type": "code",
   "execution_count": 6,
   "metadata": {},
   "outputs": [],
   "source": [
    "user = 'XXX' \n",
    "password = 'XXX' \n",
    "\n",
    "api = SentinelAPI(user, password, 'https://scihub.copernicus.eu/dhus')"
   ]
  },
  {
   "cell_type": "code",
   "execution_count": 7,
   "metadata": {
    "scrolled": true
   },
   "outputs": [],
   "source": [
    "footprint = geojson_to_wkt(geojson_obj=read_geojson('RCCR_working_areas/golfo_dulce_aoi.json'))\n"
   ]
  },
  {
   "cell_type": "code",
   "execution_count": 8,
   "metadata": {},
   "outputs": [
    {
     "data": {
      "text/plain": [
       "18"
      ]
     },
     "execution_count": 8,
     "metadata": {},
     "output_type": "execute_result"
    }
   ],
   "source": [
    "products = api.query(footprint,\n",
    "                     date = ('20160101', '20200101'),\n",
    "                     platformname = 'Sentinel-2',\n",
    "                     processinglevel = 'Level-2A',\n",
    "                     cloudcoverpercentage = (0,10))\n",
    "len(products)\n"
   ]
  },
  {
   "cell_type": "code",
   "execution_count": 10,
   "metadata": {},
   "outputs": [],
   "source": [
    "products_gdf = api.to_geodataframe(products)\n",
    "products_gdf_sorted = products_gdf.sort_values(['beginposition'], ascending=[True])"
   ]
  },
  {
   "cell_type": "code",
   "execution_count": 111,
   "metadata": {},
   "outputs": [
    {
     "name": "stderr",
     "output_type": "stream",
     "text": [
      "Downloading: 100%|██████████| 1.05G/1.05G [03:12<00:00, 5.46MB/s]\n",
      "MD5 checksumming: 100%|██████████| 1.05G/1.05G [00:02<00:00, 389MB/s]\n"
     ]
    }
   ],
   "source": [
    "image_uuid = products_gdf_sorted['uuid'][1]\n",
    "prod_download = api.download(image_uuid)"
   ]
  },
  {
   "cell_type": "code",
   "execution_count": 112,
   "metadata": {},
   "outputs": [
    {
     "data": {
      "text/plain": [
       "{'id': 'b0484750-8256-4098-8bc2-296204f068e2',\n",
       " 'title': 'S2A_MSIL2A_20190106T160511_N0211_R054_T17PKK_20190106T200509',\n",
       " 'size': 1053562026,\n",
       " 'md5': 'F9778CAA1942CDC917EB022C39EDB049',\n",
       " 'date': datetime.datetime(2019, 1, 6, 16, 5, 11, 24000),\n",
       " 'footprint': 'POLYGON((-83.72888 9.036587447829426,-82.73059 9.042658531194327,-82.726105 8.049938736781794,-83.72183 8.044543172576688,-83.72888 9.036587447829426))',\n",
       " 'url': \"https://scihub.copernicus.eu/dhus/odata/v1/Products('b0484750-8256-4098-8bc2-296204f068e2')/$value\",\n",
       " 'Online': True,\n",
       " 'Creation Date': datetime.datetime(2019, 1, 6, 23, 39, 11, 23000),\n",
       " 'Ingestion Date': datetime.datetime(2019, 1, 6, 23, 32, 56, 890000),\n",
       " 'path': './S2A_MSIL2A_20190106T160511_N0211_R054_T17PKK_20190106T200509.zip',\n",
       " 'downloaded_bytes': 995890346}"
      ]
     },
     "execution_count": 112,
     "metadata": {},
     "output_type": "execute_result"
    }
   ],
   "source": [
    "prod_download"
   ]
  },
  {
   "cell_type": "code",
   "execution_count": 118,
   "metadata": {},
   "outputs": [],
   "source": [
    "filename = prod_download['title']+ '.zip'\n",
    "targetdir = 'data'\n",
    "with zipfile.ZipFile(filename,\"r\") as zip_ref:\n",
    "    zip_ref.extractall(targetdir)"
   ]
  },
  {
   "cell_type": "code",
   "execution_count": 11,
   "metadata": {},
   "outputs": [
    {
     "data": {
      "text/plain": [
       "72"
      ]
     },
     "execution_count": 11,
     "metadata": {},
     "output_type": "execute_result"
    }
   ],
   "source": [
    "footprint = geojson_to_wkt(geojson_obj=read_geojson('RCCR_working_areas/bahia_colebra.json'))\n",
    "\n",
    "products = api.query(footprint,\n",
    "                     date = ('20160101', '20200101'),\n",
    "                     platformname = 'Sentinel-2',\n",
    "                     processinglevel = 'Level-1C',\n",
    "                     cloudcoverpercentage = (0,10))\n",
    "len(products)"
   ]
  },
  {
   "cell_type": "code",
   "execution_count": 29,
   "metadata": {},
   "outputs": [
    {
     "data": {
      "text/plain": [
       "<matplotlib.axes._subplots.AxesSubplot at 0x7f2d964c8e50>"
      ]
     },
     "execution_count": 29,
     "metadata": {},
     "output_type": "execute_result"
    },
    {
     "data": {
      "image/png": "[encoded data removed]",
      "text/plain": [
       "<Figure size 432x288 with 1 Axes>"
      ]
     },
     "metadata": {
      "needs_background": "light"
     },
     "output_type": "display_data"
    }
   ],
   "source": [
    "bahia_colebra_ch = bahia_colebra\n",
    "bahia_colebra_ch['geometry'] = bahia_colebra['geometry'].convex_hull\n",
    "bahia_colebra_ch.to_file(\"RCCR_working_areas/bahia_colebra_ch.json\", driver=\"GeoJSON\")\n",
    "bahia_colebra_ch['geometry'].plot()"
   ]
  },
  {
   "cell_type": "code",
   "execution_count": null,
   "metadata": {},
   "outputs": [],
   "source": []
  }
 ],
 "metadata": {
  "kernelspec": {
   "display_name": "Python 3",
   "language": "python",
   "name": "python3"
  },
  "language_info": {
   "codemirror_mode": {
    "name": "ipython",
    "version": 3
   },
   "file_extension": ".py",
   "mimetype": "text/x-python",
   "name": "python",
   "nbconvert_exporter": "python",
   "pygments_lexer": "ipython3",
   "version": "3.7.6"
  }
 },
 "nbformat": 4,
 "nbformat_minor": 4
}
