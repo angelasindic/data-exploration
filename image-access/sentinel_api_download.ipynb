{
 "cells": [
  {
   "cell_type": "code",
   "execution_count": null,
   "metadata": {},
   "outputs": [],
   "source": [
    "import os\n",
    "import numpy as np\n",
    "\n",
    "from sentinelsat import SentinelAPI, read_geojson, geojson_to_wkt \n",
    "import geopandas as gpd\n",
    "import pandas as pd\n",
    "import numpy as np\n",
    "import matplotlib.pyplot as plt\n",
    "\n",
    "from shapely.geometry import MultiPolygon, Polygon\n",
    "import rasterio as rio\n",
    "from rasterio.plot import show\n",
    "import rasterio.mask\n",
    "\n",
    "import zipfile"
   ]
  },
  {
   "cell_type": "markdown",
   "metadata": {},
   "source": [
    "\n",
    "\n",
    "### Convert AOI's\n",
    "Extract golfo dulce and bahia colebra area of interest from the shape file and convert them to geojson to use with the [sentinelsat api](https://sentinelsat.readthedocs.io/en/stable/api.html).\n",
    "\n"
   ]
  },
  {
   "cell_type": "code",
   "execution_count": null,
   "metadata": {},
   "outputs": [],
   "source": [
    "aoi = gpd.read_file('RCCR_working_areas/RCCR_working_areas_poly_fix.shp')\n",
    "aoi.info()"
   ]
  },
  {
   "cell_type": "code",
   "execution_count": null,
   "metadata": {},
   "outputs": [],
   "source": [
    "golfo_dulce = aoi.drop([aoi.index[0]])\n",
    "golfo_dulce.to_file(\"RCCR_working_areas/golfo_dulce_aoi.json\", driver=\"GeoJSON\")"
   ]
  },
  {
   "cell_type": "code",
   "execution_count": null,
   "metadata": {},
   "outputs": [],
   "source": [
    "golfo_dulce['geometry'].plot()\n"
   ]
  },
  {
   "cell_type": "code",
   "execution_count": null,
   "metadata": {
    "scrolled": true
   },
   "outputs": [],
   "source": [
    "bahia_colebra = aoi.drop([aoi.index[1]])\n",
    "bahia_colebra.to_file(\"RCCR_working_areas/bahia_colebra.json\", driver=\"GeoJSON\")\n",
    "bahia_colebra['geometry'].plot()"
   ]
  },
  {
   "cell_type": "markdown",
   "metadata": {},
   "source": [
    "### Instantiate sentinel api\n",
    "Replace user and password with own credential used to login with [copernicus scihub](https://scihub.copernicus.eu/dhus)"
   ]
  },
  {
   "cell_type": "code",
   "execution_count": null,
   "metadata": {},
   "outputs": [],
   "source": [
    "user = 'XXX' \n",
    "password = 'XXX' \n",
    "\n",
    "api = SentinelAPI(user, password, 'https://scihub.copernicus.eu/dhus')"
   ]
  },
  {
   "cell_type": "markdown",
   "metadata": {},
   "source": [
    "### Query products from the golfo dulce area\n",
    "Finds products starting from 01/01/2018 to 04/01/2020 with processing **Level 2A**."
   ]
  },
  {
   "cell_type": "code",
   "execution_count": null,
   "metadata": {
    "scrolled": true
   },
   "outputs": [],
   "source": [
    "footprint = geojson_to_wkt(geojson_obj=read_geojson('RCCR_working_areas/golfo_dulce_aoi.json'))\n",
    "footprint"
   ]
  },
  {
   "cell_type": "code",
   "execution_count": null,
   "metadata": {},
   "outputs": [],
   "source": [
    "products = api.query(footprint,\n",
    "                     date = ('20180101', '20200401'),\n",
    "                     platformname = 'Sentinel-2',\n",
    "                     processinglevel = 'Level-2A',\n",
    "                     cloudcoverpercentage = (0,10))\n",
    "len(products)\n"
   ]
  },
  {
   "cell_type": "code",
   "execution_count": null,
   "metadata": {},
   "outputs": [],
   "source": [
    "products_gdf = api.to_geodataframe(products)\n",
    "products_gdf_sorted = products_gdf.sort_values(['beginposition'], ascending=[False])\n",
    "products_gdf_sorted.head()"
   ]
  },
  {
   "cell_type": "markdown",
   "metadata": {},
   "source": [
    "### Dowloading Products\n",
    "Download first (most recent) 5 products from the golfo dulce area, zip files will be created in the data folder.\n",
    "This might take a while!"
   ]
  },
  {
   "cell_type": "code",
   "execution_count": null,
   "metadata": {},
   "outputs": [],
   "source": [
    "target_dir = 'data'\n",
    "\n",
    "for i in range(5):\n",
    "    image_uuid = products_gdf_sorted['uuid'][i]\n",
    "    prod_download = api.download(image_uuid, directory_path=target_dir)\n",
    "    filename = prod_download['title']+ '.zip'\n",
    "    filepath = os.path.join(target_dir, filename)\n",
    "    with zipfile.ZipFile(filepath,\"r\") as zip_ref:\n",
    "        zip_ref.extractall(target_dir)\n"
   ]
  },
  {
   "cell_type": "markdown",
   "metadata": {},
   "source": [
    "### Products with high cloud coverage"
   ]
  },
  {
   "cell_type": "code",
   "execution_count": null,
   "metadata": {},
   "outputs": [],
   "source": [
    "print(products_gdf.columns)\n",
    "products_sorted_cloud = products_gdf.sort_values(['cloudcoverpercentage'], ascending=[False])\n",
    "products_sorted_cloud[['title','beginposition','cloudcoverpercentage']].head()"
   ]
  },
  {
   "cell_type": "markdown",
   "metadata": {},
   "source": [
    "### Query products from the bahia colebra area\n",
    "Finds products with processing **Level 1C** starting form 01/01/2016 to 04/01/2020"
   ]
  },
  {
   "cell_type": "code",
   "execution_count": null,
   "metadata": {},
   "outputs": [],
   "source": [
    "footprint = geojson_to_wkt(geojson_obj=read_geojson('RCCR_working_areas/bahia_colebra.json'))\n",
    "\n",
    "products = api.query(footprint,\n",
    "                     date = ('20160101', '20200401'),\n",
    "                     platformname = 'Sentinel-2',\n",
    "                     processinglevel = 'Level-1C',\n",
    "                     cloudcoverpercentage = (0,10))\n",
    "len(products)"
   ]
  },
  {
   "cell_type": "code",
   "execution_count": null,
   "metadata": {},
   "outputs": [],
   "source": [
    "products_gdf = api.to_geodataframe(products)\n",
    "products_gdf_sorted = products_gdf.sort_values(['beginposition'], ascending=[False])\n",
    "products_gdf_sorted.head()"
   ]
  },
  {
   "cell_type": "code",
   "execution_count": null,
   "metadata": {},
   "outputs": [],
   "source": [
    "target_dir = 'data'\n",
    "\n",
    "for i in range(5):\n",
    "    image_uuid = products_gdf_sorted['uuid'][i]\n",
    "    prod_download = api.download(image_uuid, directory_path=target_dir)\n",
    "    filename = prod_download['title']+ '.zip'\n",
    "    filepath = os.path.join(target_dir, filename)\n",
    "    with zipfile.ZipFile(filepath,\"r\") as zip_ref:\n",
    "        zip_ref.extractall(target_dir)"
   ]
  },
  {
   "cell_type": "code",
   "execution_count": null,
   "metadata": {},
   "outputs": [],
   "source": [
    "bahia_colebra_ch = bahia_colebra\n",
    "bahia_colebra_ch['geometry'] = bahia_colebra['geometry'].convex_hull\n",
    "bahia_colebra_ch.to_file(\"RCCR_working_areas/bahia_colebra_ch.json\", driver=\"GeoJSON\")\n",
    "bahia_colebra_ch['geometry'].plot()"
   ]
  }
 ],
 "metadata": {
  "kernelspec": {
   "display_name": "Python 3",
   "language": "python",
   "name": "python3"
  },
  "language_info": {
   "codemirror_mode": {
    "name": "ipython",
    "version": 3
   },
   "file_extension": ".py",
   "mimetype": "text/x-python",
   "name": "python",
   "nbconvert_exporter": "python",
   "pygments_lexer": "ipython3",
   "version": "3.7.2"
  }
 },
 "nbformat": 4,
 "nbformat_minor": 4
}
