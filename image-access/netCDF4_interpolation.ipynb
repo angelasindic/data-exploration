{
 "cells": [
  {
   "cell_type": "markdown",
   "metadata": {},
   "source": [
    "### Prerequisits\n",
    "This notebook uses basemap for interpolation. \n",
    "\n",
    "Installation can be done with conda:\n",
    "```conda install basemap```"
   ]
  },
  {
   "cell_type": "code",
   "execution_count": 1,
   "metadata": {},
   "outputs": [
    {
     "name": "stderr",
     "output_type": "stream",
     "text": [
      "\n",
      "Bad key \"text.kerning_factor\" on line 4 in\n",
      "/home/angela/anaconda3/envs/coral_datadownload/lib/python3.7/site-packages/matplotlib/mpl-data/stylelib/_classic_test_patch.mplstyle.\n",
      "You probably need to get an updated matplotlibrc file from\n",
      "https://github.com/matplotlib/matplotlib/blob/v3.1.3/matplotlibrc.template\n",
      "or from the matplotlib source distribution\n"
     ]
    }
   ],
   "source": [
    "import numpy as np\n",
    "from mpl_toolkits import basemap\n",
    "from netCDF4 import Dataset\n",
    "import pandas as pd\n",
    "import matplotlib.pyplot as plt\n",
    "from matplotlib.colors import ListedColormap"
   ]
  },
  {
   "cell_type": "code",
   "execution_count": 2,
   "metadata": {},
   "outputs": [],
   "source": [
    "def load_colormap(filename):\n",
    "    \"\"\"Load a colormap defined in a text file\n",
    "    filename is the .txt file name located in the\n",
    "    data/path, not the full path.\n",
    "    list_available_colormaps() lists the available color tables\n",
    "    \"\"\"\n",
    "    try:\n",
    "        color_map_values = pd.read_csv(filename).to_numpy()/255.\n",
    "        colormap = ListedColormap(color_map_values)\n",
    "    except IOError:\n",
    "        print(f\"Cannot load colormap {filename}\")\n",
    "        raise\n",
    "    colormap.set_bad(\"gray\") # color of missing pixels\n",
    "    colormap.set_under(\"white\") # color of background, necessary if you want to use\n",
    "    # this colormap directly with hp.mollview(m, cmap=colormap)\n",
    "    # healpy tutorial see:https://healpy.readthedocs.io/en/latest/tutorial.html\n",
    "    return colormap"
   ]
  },
  {
   "cell_type": "markdown",
   "metadata": {},
   "source": [
    "### Specify Location\n",
    "Provide the path to the netCDF4 file you want to analyse. It should contain results of the sedement or other algorithms."
   ]
  },
  {
   "cell_type": "code",
   "execution_count": 5,
   "metadata": {},
   "outputs": [],
   "source": [
    "l2w = '/home/angela/m3/tutorials/tmp/S2A_MSI_2020_03_21_16_05_11_T17PKK_L2W.nc'"
   ]
  },
  {
   "cell_type": "code",
   "execution_count": 6,
   "metadata": {},
   "outputs": [],
   "source": [
    "rootgrp = Dataset(l2w, \"a\")"
   ]
  },
  {
   "cell_type": "code",
   "execution_count": 7,
   "metadata": {},
   "outputs": [
    {
     "name": "stdout",
     "output_type": "stream",
     "text": [
      "{'lon': <class 'netCDF4._netCDF4.Variable'>\n",
      "float32 lon(y, x)\n",
      "    standard_name: longitude\n",
      "    units: degree_east\n",
      "unlimited dimensions: \n",
      "current shape = (2946, 2718)\n",
      "filling on, default _FillValue of 9.969209968386869e+36 used, 'lat': <class 'netCDF4._netCDF4.Variable'>\n",
      "float32 lat(y, x)\n",
      "    standard_name: latitude\n",
      "    units: degree_north\n",
      "unlimited dimensions: \n",
      "current shape = (2946, 2718)\n",
      "filling on, default _FillValue of 9.969209968386869e+36 used, 'l2_flags': <class 'netCDF4._netCDF4.Variable'>\n",
      "int32 l2_flags(y, x)\n",
      "    standard_name: l2_flags\n",
      "    units: 1\n",
      "unlimited dimensions: \n",
      "current shape = (2946, 2718)\n",
      "filling on, default _FillValue of -2147483647 used, 'spm_nechad2016': <class 'netCDF4._netCDF4.Variable'>\n",
      "float32 spm_nechad2016(y, x)\n",
      "    algorithm: 2016 calibration\n",
      "    title: Nechad SPM\n",
      "    standard_name: spm\n",
      "    long_name: Suspended Particulate Matter\n",
      "    units: g m^-3\n",
      "    reference: Nechad et al. 2010\n",
      "    wave: 665.0\n",
      "    A_SPM: 342.1\n",
      "    C_SPM: 0.19563\n",
      "unlimited dimensions: \n",
      "current shape = (2946, 2718)\n",
      "filling on, default _FillValue of 9.969209968386869e+36 used, 't_nechad2016': <class 'netCDF4._netCDF4.Variable'>\n",
      "float32 t_nechad2016(y, x)\n",
      "    algorithm: 2016 calibration\n",
      "    title: Nechad TUR\n",
      "    standard_name: turbidity\n",
      "    long_name: Water turbidity\n",
      "    units: FNU\n",
      "    reference: Nechad et al. 2009\n",
      "    wave: 665.0\n",
      "    A_TUR: 366.14\n",
      "    C_TUR: 0.19563\n",
      "unlimited dimensions: \n",
      "current shape = (2946, 2718)\n",
      "filling on, default _FillValue of 9.969209968386869e+36 used, 't_dogliotti': <class 'netCDF4._netCDF4.Variable'>\n",
      "float32 t_dogliotti(y, x)\n",
      "    algorithm: \n",
      "    standard_name: turbidity\n",
      "    long_name: Water turbidity\n",
      "    units: FNU\n",
      "    reference: Dogliotti et al. 2015\n",
      "    algo_wave_red: 645\n",
      "    algo_wave_nir: 859\n",
      "    wave_red: 665\n",
      "    wave_nir: 833\n",
      "    A_T_red: 228.1\n",
      "    C_T_red: 0.1641\n",
      "    A_T_nir: 3078.9\n",
      "    C_T_nir: 0.2112\n",
      "    lower_lim: 0.05\n",
      "    upper_lim: 0.07\n",
      "unlimited dimensions: \n",
      "current shape = (2946, 2718)\n",
      "filling on, default _FillValue of 9.969209968386869e+36 used, 'fai': <class 'netCDF4._netCDF4.Variable'>\n",
      "float32 fai(y, x)\n",
      "    algorithm: \n",
      "    dataset: rhos\n",
      "    standard_name: fai\n",
      "    long_name: Floating Algal Index\n",
      "    units: 1\n",
      "    reference: Hu et al. 2009\n",
      "    waves: ['665', '865', '1614']\n",
      "unlimited dimensions: \n",
      "current shape = (2946, 2718)\n",
      "filling on, default _FillValue of 9.969209968386869e+36 used}\n"
     ]
    }
   ],
   "source": [
    "print(rootgrp.variables)"
   ]
  },
  {
   "cell_type": "code",
   "execution_count": 8,
   "metadata": {},
   "outputs": [
    {
     "name": "stdout",
     "output_type": "stream",
     "text": [
      "<class 'netCDF4._netCDF4.Variable'>\n",
      "float32 lon(y, x)\n",
      "    standard_name: longitude\n",
      "    units: degree_east\n",
      "unlimited dimensions: \n",
      "current shape = (2946, 2718)\n",
      "filling on, default _FillValue of 9.969209968386869e+36 used\n"
     ]
    }
   ],
   "source": [
    "print(rootgrp.variables['lon'])"
   ]
  },
  {
   "cell_type": "markdown",
   "metadata": {},
   "source": [
    "#### Print values\n",
    "Print the first 5 data elements of the latitude variable"
   ]
  },
  {
   "cell_type": "code",
   "execution_count": 10,
   "metadata": {},
   "outputs": [
    {
     "name": "stdout",
     "output_type": "stream",
     "text": [
      "min: 8.47068977355957, max: 8.738358497619629\n"
     ]
    },
    {
     "data": {
      "text/plain": [
       "array([[8.736822 , 8.736823 , 8.736823 , 8.736824 , 8.736825 ],\n",
       "       [8.736732 , 8.7367325, 8.736733 , 8.736733 , 8.736734 ],\n",
       "       [8.736642 , 8.736642 , 8.736643 , 8.736644 , 8.736644 ],\n",
       "       [8.736551 , 8.736552 , 8.736552 , 8.736553 , 8.736553 ],\n",
       "       [8.736461 , 8.736462 , 8.736462 , 8.736463 , 8.736464 ]],\n",
       "      dtype=float32)"
      ]
     },
     "execution_count": 10,
     "metadata": {},
     "output_type": "execute_result"
    }
   ],
   "source": [
    "lats = rootgrp.variables['lat'][:]\n",
    "print(f\"min: {np.nanmin(lats)}, max: {np.nanmax(lats)}\")\n",
    "lats[0:5,0:5].data"
   ]
  },
  {
   "cell_type": "markdown",
   "metadata": {},
   "source": [
    "### Interpolation - Experimental !!! Use following cell instead!!!"
   ]
  },
  {
   "cell_type": "code",
   "execution_count": 22,
   "metadata": {},
   "outputs": [
    {
     "name": "stdout",
     "output_type": "stream",
     "text": [
      "(100, 100)\n",
      "min: -1.0284855365753174, max: 27.592741012573242, mean: 2.363090753555298\n"
     ]
    }
   ],
   "source": [
    "with Dataset(l2w, mode='r') as fh:\n",
    "    lons = fh.variables['lon'][:]\n",
    "    lats = fh.variables['lat'][:]\n",
    "    spms = fh.variables['spm_nechad2016'][:].squeeze()\n",
    "\n",
    "                        \n",
    "#lons_sub, lats_sub = np.meshgrid(lons[::16,::16], lats[::16,::16])\n",
    "#lons_sub, lats_sub = lons[::16,::16], lats[::16,::16]\n",
    "\n",
    "#lons_sub, lats_sub = lons[::4], lats[::4]\n",
    "#lons_sub, lats_sub = np.meshgrid(lons[::16,::16], lats[::16,::16])\n",
    "\n",
    "\n",
    "\n",
    "#print(f\"lons: {lons.shape} resampled to {lons_sub.shape}\")\n",
    "#print(f\"lons: {lons.shape}, lats:{lats.shape}, spms:{spms.shape}\")\n",
    " \n",
    "# linspace is similar to range, returns a sequence in range (from, to, numberOfVals)\n",
    "nlons = 100\n",
    "nlats = 110\n",
    "lons_sub = np.linspace(np.nanmin(lons), np.nanmax(lons), nlons)\n",
    "lats_sub = np.linspace(np.nanmin(lats), np.nanmax(lats), nlats)\n",
    "\n",
    "#why use meshgrid.see:\n",
    "#https://sourceforge.net/p/matplotlib/mailman/message/24637586/\n",
    "lons_new, lats_new = np.meshgrid(lons_sub, lats_sub)\n",
    "\n",
    "print(lons_new.shape)\n",
    "\n",
    "\n",
    "spm_coarse = basemap.interp(spms, np.sort(lons[0,:]), np.sort(lats[:,0]), lons_new, lats_new, order=0)\n",
    "\n",
    "print(f\"min: {np.nanmin(spm_coarse)}, max: {np.nanmax(spm_coarse)}, mean: {np.nanmean(spm_coarse)}\")"
   ]
  },
  {
   "cell_type": "markdown",
   "metadata": {},
   "source": [
    "### Interpolation - preferred version\n",
    "These steps are performed:\n",
    "1. load the data from the file with the given path, longutude and latitude from \n",
    "2. Sort longutude and latitude. This is a prerequisite for basemap.interp\n",
    "3. Perform the interpolation with nearest neighbor method. Reduce with factor twenty by choosing every 20th element form the sorted longuitudes and latitudes."
   ]
  },
  {
   "cell_type": "code",
   "execution_count": 21,
   "metadata": {},
   "outputs": [
    {
     "name": "stdout",
     "output_type": "stream",
     "text": [
      "(148, 136)\n",
      "(148, 136)\n",
      "min: -1.3056745529174805, max: 24.573102951049805, mean: 2.2961606979370117\n"
     ]
    }
   ],
   "source": [
    "with Dataset(l2w, mode='r') as fh:\n",
    "    lon = fh.variables['lon'][:]\n",
    "    lat = fh.variables['lat'][:]\n",
    "    spm = fh.variables['spm_nechad2016'][:].squeeze()\n",
    "\n",
    "lat_sorted = np.sort(lat, axis=0)\n",
    "lon_sorted = np.sort(lon, axis=0)\n",
    "\n",
    "lon_new, lat_new = np.meshgrid(lon_sorted[0,:][::20], lat_sorted[:,0][::20])\n",
    "\n",
    "print(lat_new.shape)\n",
    "print(lon_new.shape)\n",
    "\n",
    "spm_coarse = basemap.interp(spm, lon_sorted[0,:], lat_sorted[:,0], lon_new, lat_new, order=1)\n",
    "\n",
    "print(f\"min: {np.nanmin(spm_coarse)}, max: {np.nanmax(spm_coarse)}, mean: {np.nanmean(spm_coarse)}\")"
   ]
  },
  {
   "cell_type": "markdown",
   "metadata": {},
   "source": [
    "### Plotting\n",
    "Plot the interpolated data using the planck parchment colormap."
   ]
  },
  {
   "cell_type": "code",
   "execution_count": 22,
   "metadata": {},
   "outputs": [],
   "source": [
    "cmp = load_colormap('data/planck_parchment_rgb.csv')"
   ]
  },
  {
   "cell_type": "code",
   "execution_count": 23,
   "metadata": {},
   "outputs": [
    {
     "data": {
      "image/png": "[encoded data removed]",
      "text/plain": [
       "<Figure size 2160x1080 with 2 Axes>"
      ]
     },
     "metadata": {
      "needs_background": "light"
     },
     "output_type": "display_data"
    }
   ],
   "source": [
    "from matplotlib.colors import Normalize, LogNorm \n",
    "# Plot the green band using a non-default color ramp & a color bar\n",
    "# see also: https://matplotlib.org/users/colormaps.html\n",
    "plt.rcParams[\"figure.figsize\"] = (30,15)\n",
    "fig = plt.imshow(spm_coarse)\n",
    "#vmin=Z.min(), vmax=Z.max2\n",
    "#fig = plt.imshow(data, norm=Normalize(1,100))\n",
    "fig.set_cmap(cmp)\n",
    "\n",
    "plt.colorbar()\n",
    "plt.show()"
   ]
  }
 ],
 "metadata": {
  "kernelspec": {
   "display_name": "Python 3",
   "language": "python",
   "name": "python3"
  },
  "language_info": {
   "codemirror_mode": {
    "name": "ipython",
    "version": 3
   },
   "file_extension": ".py",
   "mimetype": "text/x-python",
   "name": "python",
   "nbconvert_exporter": "python",
   "pygments_lexer": "ipython3",
   "version": "3.7.6"
  }
 },
 "nbformat": 4,
 "nbformat_minor": 4
}
