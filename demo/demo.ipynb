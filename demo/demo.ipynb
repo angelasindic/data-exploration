{
 "cells": [
  {
   "cell_type": "code",
   "execution_count": 3,
   "metadata": {
    "colab": {},
    "colab_type": "code",
    "id": "UqZSyvxa9wbN"
   },
   "outputs": [],
   "source": [
    "import os\n",
    "import pandas as pd\n",
    "import rasterio as rio\n",
    "import matplotlib.pyplot as plt\n",
    "from rasterio.plot import show\n",
    "import numpy as np\n",
    "from bqplot import pyplot as plt # visualization lib built on top of ipywidgets\n",
    "import ipywidgets as widgets\n",
    "from ipywidgets import interact\n",
    "#%matplotlib inline\n",
    "from ipywidgets import interactive\n",
    "import matplotlib.pyplot as plt\n",
    "import numpy as np\n",
    "from sklearn.cluster import KMeans\n",
    "import datetime\n",
    "import folium\n",
    "from ipywidgets import IntSlider, Output\n",
    "from ipywidgets import FileUpload\n",
    "from IPython.display import display, Markdown, clear_output\n",
    "\n",
    "from PIL import Image\n",
    "import math\n",
    "from matplotlib.colors import ListedColormap\n",
    "from matplotlib import pyplot\n",
    "import matplotlib as mpl\n",
    "import datetime as datetime"
   ]
  },
  {
   "cell_type": "code",
   "execution_count": 4,
   "metadata": {
    "scrolled": true
   },
   "outputs": [],
   "source": [
    "df = pd.read_csv('df_mean_std_missing') # read in the aggregated csv file\n",
    "\n",
    "# reshape the file to the original 2-d array format for plotting\n",
    "image_mean = np.array(df['mean']).reshape([2946, 2718]) \n",
    "image_std = np.array(df['std']).reshape([2946, 2718])\n",
    "image_missing = np.array(df['missing']).reshape([2946, 2718])"
   ]
  },
  {
   "cell_type": "code",
   "execution_count": 5,
   "metadata": {},
   "outputs": [],
   "source": [
    "df_test = pd.read_csv('df_select.csv') # read in the position which user selected\n",
    "df_test = df_test.sort_values(by = 'DateTime')"
   ]
  },
  {
   "cell_type": "code",
   "execution_count": 6,
   "metadata": {},
   "outputs": [],
   "source": [
    "df_test['date_time'] = pd.to_datetime(df_test['DateTime'])\n",
    "\n",
    "df_test['month_year'] = pd.to_datetime(df_test['date_time']).dt.to_period('M')\n",
    "\n",
    "df_test_month = df_test.groupby('month_year')['1356881'].mean()"
   ]
  },
  {
   "cell_type": "code",
   "execution_count": 7,
   "metadata": {},
   "outputs": [],
   "source": [
    "missing_percentage = df_test_month[42:].isna().sum() / len(df_test_month[42:])"
   ]
  },
  {
   "cell_type": "code",
   "execution_count": 8,
   "metadata": {},
   "outputs": [],
   "source": [
    "df_interpolated = df_test_month.interpolate(method ='linear', limit_direction ='forward')\n",
    "\n",
    "test = pd.DataFrame(df_interpolated)\n",
    "\n",
    "test = test.reset_index()\n",
    "\n",
    "test['month_year'] = test.month_year.astype(str)"
   ]
  },
  {
   "cell_type": "code",
   "execution_count": 9,
   "metadata": {
    "scrolled": true
   },
   "outputs": [],
   "source": [
    "test = test[42:]"
   ]
  },
  {
   "cell_type": "markdown",
   "metadata": {},
   "source": [
    "![logo](https://66.media.tumblr.com/41a1ce55dfc366dddeb8191808e1b738/2871cadea7ec24d9-4c/s250x400/a303619e613678b393a708ac7c552e5a5577c38b.png)"
   ]
  },
  {
   "cell_type": "markdown",
   "metadata": {},
   "source": [
    "## <font color='green'>Return Corals To Their Homes"
   ]
  },
  {
   "cell_type": "markdown",
   "metadata": {},
   "source": [
    "## <font color='orange'>Area of Interest - Golfo Dulce, Costa Rica"
   ]
  },
  {
   "cell_type": "code",
   "execution_count": 15,
   "metadata": {
    "scrolled": true
   },
   "outputs": [
    {
     "data": {
      "image/png": "[encoded data removed]",
      "text/plain": [
       "<Figure size 720x720 with 2 Axes>"
      ]
     },
     "metadata": {
      "needs_background": "light"
     },
     "output_type": "display_data"
    }
   ],
   "source": [
    "# make a color map of fixed colors\n",
    "cmap = mpl.colors.ListedColormap(['blue','green','orange','red'])\n",
    "bounds=[0,5,15,30,50]\n",
    "norm = mpl.colors.BoundaryNorm(bounds, cmap.N)\n",
    "\n",
    "#fig, ax = subplots(figsize=(10,5))\n",
    "\n",
    "plt.figure(figsize=(10,10))\n",
    "plt.xlabel('latitude')\n",
    "plt.ylabel('longitude')\n",
    "\n",
    "plt.title('Average Sediment since 2016-01 (TSM, Nechad) in g/m3')\n",
    "\n",
    "# tell imshow about color map so that only set colors are used\n",
    "img = pyplot.imshow(image_mean, #[0:50, 200:250], #interpolation='nearest',\n",
    "                    cmap = cmap,norm=norm);\n",
    "\n",
    "# make a color bar\n",
    "pyplot.colorbar(img,cmap=cmap,\n",
    "                norm=norm,boundaries=bounds,ticks=[5,15,30,50], ax=None);\n",
    "\n",
    "#pyplot.show()"
   ]
  },
  {
   "cell_type": "markdown",
   "metadata": {},
   "source": [
    "### <font color='blue'>Specify latitude and logitude for the area of interest"
   ]
  },
  {
   "cell_type": "code",
   "execution_count": 99,
   "metadata": {
    "scrolled": false
   },
   "outputs": [
    {
     "data": {
      "application/vnd.jupyter.widget-view+json": {
       "model_id": "79ded4258755469387263727bb883c48",
       "version_major": 2,
       "version_minor": 0
      },
      "text/plain": [
       "Text(value='400', description='latitude:', placeholder='Type something')"
      ]
     },
     "metadata": {},
     "output_type": "display_data"
    }
   ],
   "source": [
    "corals_latitude = widgets.Text(\n",
    "    value='400',\n",
    "    placeholder='Type something',\n",
    "    description='latitude:',\n",
    "    disabled=False)\n",
    "\n",
    "corals_latitude"
   ]
  },
  {
   "cell_type": "code",
   "execution_count": 100,
   "metadata": {
    "scrolled": false
   },
   "outputs": [
    {
     "data": {
      "application/vnd.jupyter.widget-view+json": {
       "model_id": "408ae94182c2420dad4968cc9030ecc2",
       "version_major": 2,
       "version_minor": 0
      },
      "text/plain": [
       "Text(value='400', description='longitude:', placeholder='Type something')"
      ]
     },
     "metadata": {},
     "output_type": "display_data"
    }
   ],
   "source": [
    "corals_longitude = widgets.Text(\n",
    "    value='400',\n",
    "    placeholder='Type something',\n",
    "    description='longitude:',\n",
    "    disabled=False)\n",
    "\n",
    "corals_longitude"
   ]
  },
  {
   "cell_type": "code",
   "execution_count": 36,
   "metadata": {},
   "outputs": [],
   "source": [
    "# find out position index, default latitude = 500, default longitude = 500\n",
    "\n",
    "idx = (int(corals_latitude.value) - 1) * 2718 + int(corals_longitude.value) "
   ]
  },
  {
   "cell_type": "code",
   "execution_count": 106,
   "metadata": {},
   "outputs": [],
   "source": [
    "# create the widget calendar, other widgets saved here for future reference\n",
    "\n",
    "text = widgets.Text(\n",
    "       value='My Text',\n",
    "       description='Title', )\n",
    "calendar_start = widgets.DatePicker(\n",
    "           description='Starting Date')\n",
    "calendar_end = widgets.DatePicker(\n",
    "           description='Ending Date')\n",
    "slider = widgets.FloatSlider(\n",
    "         value=1,\n",
    "         min=0,\n",
    "         max=10.0,\n",
    "         step=0.1,)\n",
    "menu = widgets.Dropdown(\n",
    "       options=['sediment', 'vegetation'],\n",
    "       value='sediment',\n",
    "       description='Factors:')\n",
    "checkbox = widgets.Checkbox(\n",
    "           description='Check to invert',)\n",
    "\n",
    "box1 = widgets.VBox([calendar_start, calendar_end])\n",
    "\n",
    "\n",
    "# to make the date interactive, try the codes below:\n",
    "#start_time = calendar_start.value\n",
    "#start_month = str(start_time.year) + '-' + str(start_time.month)\n",
    "#end_time = calendar_end.value\n",
    "#end_month = str(end_time.year) + '-' + str(end_time.month)\n",
    "\n",
    "start_month = '2019-07' #default\n",
    "end_month = '2020-4'#default"
   ]
  },
  {
   "cell_type": "markdown",
   "metadata": {},
   "source": [
    "### <font color='blue'>Specify the date range for the area of interest"
   ]
  },
  {
   "cell_type": "code",
   "execution_count": 13,
   "metadata": {
    "scrolled": false
   },
   "outputs": [
    {
     "data": {
      "application/vnd.jupyter.widget-view+json": {
       "model_id": "38e53f5363dc4d478b75d07174956487",
       "version_major": 2,
       "version_minor": 0
      },
      "text/plain": [
       "VBox(children=(DatePicker(value=None, description='Starting Date'), DatePicker(value=None, description='Ending…"
      ]
     },
     "metadata": {},
     "output_type": "display_data"
    }
   ],
   "source": [
    "box1"
   ]
  },
  {
   "cell_type": "code",
   "execution_count": 114,
   "metadata": {
    "scrolled": false
   },
   "outputs": [
    {
     "data": {
      "application/vnd.jupyter.widget-view+json": {
       "model_id": "730f96b5f90543eb8cf80f349ed1fe17",
       "version_major": 2,
       "version_minor": 0
      },
      "text/plain": [
       "VBox(children=(Button(description='Calculate sediment', style=ButtonStyle()), Output()))"
      ]
     },
     "metadata": {},
     "output_type": "display_data"
    }
   ],
   "source": [
    "button1 = widgets.Button(description='Calculate sediment')\n",
    "out1 = widgets.Output()\n",
    "def on_button_clicked1(_):\n",
    "      # \"linking function with output\"\n",
    "        with out1:\n",
    "          # what happens when we press the button\n",
    "            clear_output()\n",
    "            print('the average sedimentation from ' + start_month + ' to ' + end_month + ' is ' + str(round(image_mean[int(corals_latitude.value), int(corals_longitude.value)], 3)) + 'g/m3')\n",
    "            print('the std sedimentation from ' + start_month + ' to ' + end_month + ' is ' + str(round(image_std[int(corals_latitude.value), int(corals_longitude.value)], 3)) + 'g/m3')\n",
    "            print('the missing values from ' + start_month + ' to ' + end_month + ' is ' + str(round(missing_percentage * 100, 2)) + ' percent')\n",
    "\n",
    "\n",
    "# linking button and function together using a button's method\n",
    "button1.on_click(on_button_clicked1)\n",
    "\n",
    "# displaying button and its output together\n",
    "widgets.VBox([button1,out1])\n"
   ]
  },
  {
   "cell_type": "code",
   "execution_count": 16,
   "metadata": {
    "scrolled": false
   },
   "outputs": [
    {
     "data": {
      "application/vnd.jupyter.widget-view+json": {
       "model_id": "5bb31c26ef4a43a4a13825dc540f7c5f",
       "version_major": 2,
       "version_minor": 0
      },
      "text/plain": [
       "VBox(children=(Button(description='Generate trend chart', style=ButtonStyle()), Output()))"
      ]
     },
     "metadata": {},
     "output_type": "display_data"
    }
   ],
   "source": [
    "%matplotlib inline\n",
    "\n",
    "#plt.ioff()\n",
    "button2 = widgets.Button(description='Generate trend chart')\n",
    "out2 = widgets.Output()\n",
    "def on_button_clicked2(_):\n",
    "      # \"linking function with output\"\n",
    "        with out2:\n",
    "          # what happens when we press the button\n",
    "            clear_output()\n",
    "            #x = np.linspace(0, 10, 1000)\n",
    "            fig, ax = plt.subplots()\n",
    "            plt.plot(test['month_year'], test['1356881'])\n",
    "            # to-do: plot interpolated in a different colour!\n",
    "            ax.xaxis.set_major_locator(plt.MaxNLocator(5))\n",
    "            plt.title('sediment over time (TSM, Nechad) in g/m3')\n",
    "            #plt.xlabel('months')\n",
    "            plt.ylabel('actual sedimentation')\n",
    "            plt.show()\n",
    "# linking button and function together using a button's method\n",
    "button2.on_click(on_button_clicked2)\n",
    "# displaying button and its output together\n",
    "vbox = widgets.VBox([button2,out2])\n",
    "display(vbox)"
   ]
  },
  {
   "cell_type": "markdown",
   "metadata": {},
   "source": [
    "### Other information sources#"
   ]
  },
  {
   "cell_type": "markdown",
   "metadata": {},
   "source": [
    "## Coral Reef Watch"
   ]
  },
  {
   "cell_type": "code",
   "execution_count": 35,
   "metadata": {},
   "outputs": [
    {
     "data": {
      "text/html": [
       "<iframe width=\"425\" height=\"350\" frameborder=\"0\" scrolling=\"no\" marginheight=\"0\" marginwidth=\"0\" src=\"http://pacioos.org/voyager/full.html?b=5.834901,-90.260883,12.415398,-77.351948&s=1&t=m&o=sat:4:cunit:d46a0m0x1.5&output=embed\"></iframe><br /><small><a href=\"http://pacioos.org/voyager/index.html?b=5.834901,-90.260883,12.415398,-77.351948&s=1&t=m&o=sat:4:cunit:d46a0m0x1.5\" target=\"_blank\">View Larger Map</a></small>\n"
      ],
      "text/plain": [
       "<IPython.core.display.HTML object>"
      ]
     },
     "metadata": {},
     "output_type": "display_data"
    }
   ],
   "source": [
    "%%html\n",
    "<iframe width=\"425\" height=\"350\" frameborder=\"0\" scrolling=\"no\" marginheight=\"0\" marginwidth=\"0\" src=\"http://pacioos.org/voyager/full.html?b=5.834901,-90.260883,12.415398,-77.351948&s=1&t=m&o=sat:4:cunit:d46a0m0x1.5&output=embed\"></iframe><br /><small><a href=\"http://pacioos.org/voyager/index.html?b=5.834901,-90.260883,12.415398,-77.351948&s=1&t=m&o=sat:4:cunit:d46a0m0x1.5\" target=\"_blank\">View Larger Map</a></small>"
   ]
  },
  {
   "cell_type": "code",
   "execution_count": 85,
   "metadata": {},
   "outputs": [],
   "source": [
    "## Resource Watch"
   ]
  },
  {
   "cell_type": "code",
   "execution_count": 79,
   "metadata": {},
   "outputs": [],
   "source": [
    "#%%html\n",
    "#<iframe src=\"https://resourcewatch.org/embed/data/explore?zoom=10&lat=8.580262690263194&lng=276.9105505943299&basemap=dark&labels=light&layers=%255B%257B%2522dataset%2522%253A%2522d553a58a-faa2-480d-b137-c96d76d5ccab%2522%252C%2522opacity%2522%253A1%252C%2522layer%2522%253A%2522ce352a4f-516e-4a00-9a94-54f2edbb618c%2522%257D%255D&page=1&sort=most-viewed&sortDirection=-1\" width=\"100%\" height=\"500px\" frameBorder=\"0\" />"
   ]
  },
  {
   "cell_type": "code",
   "execution_count": null,
   "metadata": {},
   "outputs": [],
   "source": []
  }
 ],
 "metadata": {
  "colab": {
   "name": "voila.ipynb",
   "provenance": []
  },
  "kernelspec": {
   "display_name": "Python 3",
   "language": "python",
   "name": "python3"
  },
  "language_info": {
   "codemirror_mode": {
    "name": "ipython",
    "version": 3
   },
   "file_extension": ".py",
   "mimetype": "text/x-python",
   "name": "python",
   "nbconvert_exporter": "python",
   "pygments_lexer": "ipython3",
   "version": "3.7.7"
  },
  "widgets": {
   "application/vnd.jupyter.widget-state+json": {
    "3270695357974ff1ae7be61d69325f5c": {
     "model_module": "@jupyter-widgets/controls",
     "model_name": "SliderStyleModel",
     "state": {
      "_model_module": "@jupyter-widgets/controls",
      "_model_module_version": "1.5.0",
      "_model_name": "SliderStyleModel",
      "_view_count": null,
      "_view_module": "@jupyter-widgets/base",
      "_view_module_version": "1.2.0",
      "_view_name": "StyleView",
      "description_width": "",
      "handle_color": null
     }
    },
    "33e68c0d6e39471a84785408a42cad4e": {
     "model_module": "@jupyter-widgets/base",
     "model_name": "LayoutModel",
     "state": {
      "_model_module": "@jupyter-widgets/base",
      "_model_module_version": "1.2.0",
      "_model_name": "LayoutModel",
      "_view_count": null,
      "_view_module": "@jupyter-widgets/base",
      "_view_module_version": "1.2.0",
      "_view_name": "LayoutView",
      "align_content": null,
      "align_items": null,
      "align_self": null,
      "border": null,
      "bottom": null,
      "display": null,
      "flex": null,
      "flex_flow": null,
      "grid_area": null,
      "grid_auto_columns": null,
      "grid_auto_flow": null,
      "grid_auto_rows": null,
      "grid_column": null,
      "grid_gap": null,
      "grid_row": null,
      "grid_template_areas": null,
      "grid_template_columns": null,
      "grid_template_rows": null,
      "height": null,
      "justify_content": null,
      "justify_items": null,
      "left": null,
      "margin": null,
      "max_height": null,
      "max_width": null,
      "min_height": null,
      "min_width": null,
      "object_fit": null,
      "object_position": null,
      "order": null,
      "overflow": null,
      "overflow_x": null,
      "overflow_y": null,
      "padding": null,
      "right": null,
      "top": null,
      "visibility": null,
      "width": null
     }
    },
    "459b8150c4694eca9cba363ee4abcb9b": {
     "model_module": "@jupyter-widgets/controls",
     "model_name": "SliderStyleModel",
     "state": {
      "_model_module": "@jupyter-widgets/controls",
      "_model_module_version": "1.5.0",
      "_model_name": "SliderStyleModel",
      "_view_count": null,
      "_view_module": "@jupyter-widgets/base",
      "_view_module_version": "1.2.0",
      "_view_name": "StyleView",
      "description_width": "",
      "handle_color": null
     }
    },
    "480be5b3c5ed4d0a81ab6c5453c7d22a": {
     "model_module": "@jupyter-widgets/output",
     "model_name": "OutputModel",
     "state": {
      "_dom_classes": [],
      "_model_module": "@jupyter-widgets/output",
      "_model_module_version": "1.0.0",
      "_model_name": "OutputModel",
      "_view_count": null,
      "_view_module": "@jupyter-widgets/output",
      "_view_module_version": "1.0.0",
      "_view_name": "OutputView",
      "layout": "IPY_MODEL_33e68c0d6e39471a84785408a42cad4e",
      "msg_id": "",
      "outputs": [
       {
        "image/png": "iVBORw0KGgoAAAANSUhEUgAAAL8AAAD8CAYAAAAmJnXEAAAABHNCSVQICAgIfAhkiAAAAAlwSFlz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\nrfz/Es7rYYw3M40AAAAASUVORK5CYII=\n",
        "metadata": {
         "tags": []
        },
        "output_type": "display_data",
        "text/plain": "<Figure size 432x288 with 1 Axes>"
       }
      ]
     }
    },
    "538136e0465a4703b4e4db617673d4b1": {
     "model_module": "@jupyter-widgets/controls",
     "model_name": "IntSliderModel",
     "state": {
      "_dom_classes": [],
      "_model_module": "@jupyter-widgets/controls",
      "_model_module_version": "1.5.0",
      "_model_name": "IntSliderModel",
      "_view_count": null,
      "_view_module": "@jupyter-widgets/controls",
      "_view_module_version": "1.5.0",
      "_view_name": "IntSliderView",
      "continuous_update": true,
      "description": "y",
      "description_tooltip": null,
      "disabled": false,
      "layout": "IPY_MODEL_c92c707565a9468c985873ac3716673d",
      "max": 10980,
      "min": 1,
      "orientation": "horizontal",
      "readout": true,
      "readout_format": "d",
      "step": 1,
      "style": "IPY_MODEL_459b8150c4694eca9cba363ee4abcb9b",
      "value": 1803
     }
    },
    "a90a0f2d5bbf411f89deb494315863c5": {
     "model_module": "@jupyter-widgets/controls",
     "model_name": "IntSliderModel",
     "state": {
      "_dom_classes": [],
      "_model_module": "@jupyter-widgets/controls",
      "_model_module_version": "1.5.0",
      "_model_name": "IntSliderModel",
      "_view_count": null,
      "_view_module": "@jupyter-widgets/controls",
      "_view_module_version": "1.5.0",
      "_view_name": "IntSliderView",
      "continuous_update": true,
      "description": "x",
      "description_tooltip": null,
      "disabled": false,
      "layout": "IPY_MODEL_c07e1ac6515e4ecea0b15e98dd79b9a5",
      "max": 10980,
      "min": 1,
      "orientation": "horizontal",
      "readout": true,
      "readout_format": "d",
      "step": 1,
      "style": "IPY_MODEL_3270695357974ff1ae7be61d69325f5c",
      "value": 2701
     }
    },
    "c07e1ac6515e4ecea0b15e98dd79b9a5": {
     "model_module": "@jupyter-widgets/base",
     "model_name": "LayoutModel",
     "state": {
      "_model_module": "@jupyter-widgets/base",
      "_model_module_version": "1.2.0",
      "_model_name": "LayoutModel",
      "_view_count": null,
      "_view_module": "@jupyter-widgets/base",
      "_view_module_version": "1.2.0",
      "_view_name": "LayoutView",
      "align_content": null,
      "align_items": null,
      "align_self": null,
      "border": null,
      "bottom": null,
      "display": null,
      "flex": null,
      "flex_flow": null,
      "grid_area": null,
      "grid_auto_columns": null,
      "grid_auto_flow": null,
      "grid_auto_rows": null,
      "grid_column": null,
      "grid_gap": null,
      "grid_row": null,
      "grid_template_areas": null,
      "grid_template_columns": null,
      "grid_template_rows": null,
      "height": null,
      "justify_content": null,
      "justify_items": null,
      "left": null,
      "margin": null,
      "max_height": null,
      "max_width": null,
      "min_height": null,
      "min_width": null,
      "object_fit": null,
      "object_position": null,
      "order": null,
      "overflow": null,
      "overflow_x": null,
      "overflow_y": null,
      "padding": null,
      "right": null,
      "top": null,
      "visibility": null,
      "width": null
     }
    },
    "c68d7bb9f3f14cc482e5498c2a752c6d": {
     "model_module": "@jupyter-widgets/controls",
     "model_name": "VBoxModel",
     "state": {
      "_dom_classes": [
       "widget-interact"
      ],
      "_model_module": "@jupyter-widgets/controls",
      "_model_module_version": "1.5.0",
      "_model_name": "VBoxModel",
      "_view_count": null,
      "_view_module": "@jupyter-widgets/controls",
      "_view_module_version": "1.5.0",
      "_view_name": "VBoxView",
      "box_style": "",
      "children": [
       "IPY_MODEL_a90a0f2d5bbf411f89deb494315863c5",
       "IPY_MODEL_538136e0465a4703b4e4db617673d4b1",
       "IPY_MODEL_480be5b3c5ed4d0a81ab6c5453c7d22a"
      ],
      "layout": "IPY_MODEL_c6dc7f90c4b64f7ab4280f1667836083"
     }
    },
    "c6dc7f90c4b64f7ab4280f1667836083": {
     "model_module": "@jupyter-widgets/base",
     "model_name": "LayoutModel",
     "state": {
      "_model_module": "@jupyter-widgets/base",
      "_model_module_version": "1.2.0",
      "_model_name": "LayoutModel",
      "_view_count": null,
      "_view_module": "@jupyter-widgets/base",
      "_view_module_version": "1.2.0",
      "_view_name": "LayoutView",
      "align_content": null,
      "align_items": null,
      "align_self": null,
      "border": null,
      "bottom": null,
      "display": null,
      "flex": null,
      "flex_flow": null,
      "grid_area": null,
      "grid_auto_columns": null,
      "grid_auto_flow": null,
      "grid_auto_rows": null,
      "grid_column": null,
      "grid_gap": null,
      "grid_row": null,
      "grid_template_areas": null,
      "grid_template_columns": null,
      "grid_template_rows": null,
      "height": null,
      "justify_content": null,
      "justify_items": null,
      "left": null,
      "margin": null,
      "max_height": null,
      "max_width": null,
      "min_height": null,
      "min_width": null,
      "object_fit": null,
      "object_position": null,
      "order": null,
      "overflow": null,
      "overflow_x": null,
      "overflow_y": null,
      "padding": null,
      "right": null,
      "top": null,
      "visibility": null,
      "width": null
     }
    },
    "c92c707565a9468c985873ac3716673d": {
     "model_module": "@jupyter-widgets/base",
     "model_name": "LayoutModel",
     "state": {
      "_model_module": "@jupyter-widgets/base",
      "_model_module_version": "1.2.0",
      "_model_name": "LayoutModel",
      "_view_count": null,
      "_view_module": "@jupyter-widgets/base",
      "_view_module_version": "1.2.0",
      "_view_name": "LayoutView",
      "align_content": null,
      "align_items": null,
      "align_self": null,
      "border": null,
      "bottom": null,
      "display": null,
      "flex": null,
      "flex_flow": null,
      "grid_area": null,
      "grid_auto_columns": null,
      "grid_auto_flow": null,
      "grid_auto_rows": null,
      "grid_column": null,
      "grid_gap": null,
      "grid_row": null,
      "grid_template_areas": null,
      "grid_template_columns": null,
      "grid_template_rows": null,
      "height": null,
      "justify_content": null,
      "justify_items": null,
      "left": null,
      "margin": null,
      "max_height": null,
      "max_width": null,
      "min_height": null,
      "min_width": null,
      "object_fit": null,
      "object_position": null,
      "order": null,
      "overflow": null,
      "overflow_x": null,
      "overflow_y": null,
      "padding": null,
      "right": null,
      "top": null,
      "visibility": null,
      "width": null
     }
    }
   }
  }
 },
 "nbformat": 4,
 "nbformat_minor": 1
}
